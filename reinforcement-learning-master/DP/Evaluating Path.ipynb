{
 "cells": [
  {
   "cell_type": "code",
   "execution_count": 35,
   "metadata": {},
   "outputs": [],
   "source": [
    "# p = [[0, 0, 1, 0], [0, 0, 0, 1], [0, 0, 0, 1], [0, 0, 1, 0], [1, 0, 0, 0], [1, 0, 0, 0], [0, 0, 1, 0], [0, 0, 1, 0], [1, 0, 0, 0], [1, 0, 0, 0], [0, 1, 0, 0], [0, 0, 1, 0], [1, 0, 0, 0], [0, 1, 0, 0], [0, 1, 0, 0], [0, 0, 0, 0]]\n",
    "\n",
    "\n",
    "p = [[0, 1, 0, 0],\n",
    " [0, 1, 0, 0],\n",
    " [0, 1, 0, 0],\n",
    " [0, 0, 1, 0],\n",
    " [1, 0, 0, 0],\n",
    " [1, 0, 0, 0],\n",
    " [1, 0, 0, 0],\n",
    " [0, 0, 0, 0],\n",
    " [1, 0, 0, 0],\n",
    " [1, 0, 0, 0],\n",
    " [0, 1, 0, 0],\n",
    " [1, 0, 0, 0],\n",
    " [0, 1, 0, 0],\n",
    " [0, 1, 0, 0],\n",
    " [1, 0, 0, 0],\n",
    " [1, 0, 0, 0]]\n",
    "\n",
    "v = [-4, -3, -2, -3, -5,  0, -1,  0,  0,  0,  0, -1, -3, -2, -1,  0]\n",
    "\n",
    "# next_state = [[0, 0, 0, 0], [1, 2, 5, 0], [2, 3, 6, 1], [3, 3, 7, 2], [0, 5, 8, 4], [1, 6, 9, 4], [2, 7, 10, 5], [3, 7, 11, 6] ,[4, 9, 12, 8], [5, 10, 13, 8], [6, 11, 14, 9], [7, 11, 15, 10], [8, 13, 12, 12], [9, 14, 13, 12], [10, 15, 14, 13], [11, 15, 15, 14]]\n",
    "# v = [-6, -5, -4, -3, -5, -4, -3, -2, -4, -3, -2, -1, -3, -2, -1, 0]\n",
    "next_state = [[0, 1, 0, 0], [1, 1, 5, 0], [-1, -1, -1, -1], [3, 3, 7, 3], [-1, -1, -1, -1], [1, 6, 5, 5], [6, 7, 6, 5], [7, 7, 7, 7], [-1, -1, -1, -1], [-1, -1, -1, -1], [-1., -1., -1., -1.], [ 7, 11, 11, 11], [-1, -1, -1, -1], [-1, -1, -1, -1], [-1, -1, -1, -1], [-1, -1, -1, -1]]\n",
    "path = []\n",
    "actions = []\n",
    "next_square = 0\n",
    "current_square = 0\n",
    "N = 4\n",
    "finished = False\n",
    "path.append(next_square)"
   ]
  },
  {
   "cell_type": "code",
   "execution_count": 21,
   "metadata": {},
   "outputs": [
    {
     "name": "stdout",
     "output_type": "stream",
     "text": [
      "Path\n",
      "\n",
      "[0, 1, 2, 3, 7]\n",
      "Actions\n",
      "\n",
      "['right', 'right', 'right', 'bottom']\n"
     ]
    }
   ],
   "source": [
    "while finished == False:\n",
    "    finished = True\n",
    "    for i in range(4):\n",
    "        if p[next_square][i] == 1:\n",
    "            finished = False\n",
    "            if i == 0:\n",
    "                next_square -= N\n",
    "                actions.append(\"up\")\n",
    "            elif i == 1:\n",
    "                next_square += 1 \n",
    "                actions.append(\"right\")\n",
    "            elif i == 2:\n",
    "                next_square += N \n",
    "                actions.append(\"bottom\")\n",
    "            else:\n",
    "                next_square -= 1\n",
    "                actions.append(\"left\")\n",
    "            path.append(next_square)\n",
    "            \n",
    "print(\"Path\\n\")\n",
    "print(path)\n",
    "print(\"Actions\\n\")\n",
    "print(actions)"
   ]
  },
  {
   "cell_type": "code",
   "execution_count": 36,
   "metadata": {},
   "outputs": [],
   "source": [
    "def getMaxValueState(next_states):\n",
    "    max = -10000000000000\n",
    "    index = 0\n",
    "    for ii in range(4):\n",
    "        c_val = v[next_states[ii]]\n",
    "        if c_val > max:\n",
    "            max = c_val\n",
    "            index = ii\n",
    "    return ii"
   ]
  },
  {
   "cell_type": "code",
   "execution_count": 37,
   "metadata": {},
   "outputs": [
    {
     "name": "stdout",
     "output_type": "stream",
     "text": [
      "Path\n",
      "\n",
      "[0, 3]\n",
      "Actions\n",
      "\n",
      "['up']\n"
     ]
    }
   ],
   "source": [
    "while finished == False:\n",
    "    finished = True\n",
    "    for i in range(4):\n",
    "        new_next_square = getMaxValueState(next_state[next_square])\n",
    "        if new_next_square != next_square:\n",
    "            fisnished = False\n",
    "            next_square = new_next_square\n",
    "            path.append(next_square)\n",
    "            if i == 0:\n",
    "                actions.append(\"up\")\n",
    "            elif i == 1:\n",
    "                actions.append(\"right\")\n",
    "            elif i == 2:\n",
    "                actions.append(\"bottom\")\n",
    "            else:\n",
    "                actions.append(\"left\")\n",
    "            \n",
    "    \n",
    "print(\"Path\\n\")\n",
    "print(path)\n",
    "print(\"Actions\\n\")\n",
    "print(actions)"
   ]
  },
  {
   "cell_type": "code",
   "execution_count": null,
   "metadata": {},
   "outputs": [],
   "source": []
  }
 ],
 "metadata": {
  "kernelspec": {
   "display_name": "Python 3",
   "language": "python",
   "name": "python3"
  },
  "language_info": {
   "codemirror_mode": {
    "name": "ipython",
    "version": 3
   },
   "file_extension": ".py",
   "mimetype": "text/x-python",
   "name": "python",
   "nbconvert_exporter": "python",
   "pygments_lexer": "ipython3",
   "version": "3.6.7"
  }
 },
 "nbformat": 4,
 "nbformat_minor": 2
}

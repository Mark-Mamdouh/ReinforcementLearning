{
 "cells": [
  {
   "cell_type": "code",
   "execution_count": 13,
   "metadata": {},
   "outputs": [
    {
     "name": "stdout",
     "output_type": "stream",
     "text": [
      "['S', '.', '#', '#']\n",
      "['.', '.', '#', '#']\n",
      "['.', '#', '.', '.']\n",
      "['.', 'E', '#', '.']\n"
     ]
    }
   ],
   "source": [
    "import random\n",
    "\n",
    "# randRow = random.randint(10, 21)\n",
    "# randCol = random.randint(10, 21)\n",
    "# steps = random.randint(10, 21)\n",
    "\n",
    "randRow = 4\n",
    "randCol = 4\n",
    "steps = 4\n",
    "\n",
    "i = 0\n",
    "j = 0\n",
    "\n",
    "mazeMap = [[0 for x in range(randCol)] for y in range(randRow)]\n",
    "mazeMap[i][j] = 'S'\n",
    "\n",
    "while steps != 0:\n",
    "    iORj = random.choice([True, False])\n",
    "    incORdec = random.randint(0, 5)\n",
    "    if iORj and (incORdec > 0) and i != randRow - 1 and mazeMap[i + 1][j] != 'S' and mazeMap[i + 1][j] != '.':\n",
    "        i = i + 1\n",
    "        mazeMap[i][j] = '.'\n",
    "        if steps == 1:\n",
    "            mazeMap[i][j] = 'E'\n",
    "    elif iORj == False and (incORdec > 0) and j != randCol-1 and mazeMap[i][j+1] != 'S' and mazeMap[i][j + 1] != '.':\n",
    "        j = j + 1\n",
    "        mazeMap[i][j] = '.'\n",
    "        if steps == 1:\n",
    "            mazeMap[i][j] = 'E'\n",
    "    elif iORj and (incORdec == 0) and i != 0 and mazeMap[i-1][j] != 'S' and mazeMap[i-1][j] != '.':\n",
    "        i = i - 1\n",
    "        mazeMap[i][j] = '.'\n",
    "        if steps == 1:\n",
    "            mazeMap[i][j] = 'E'\n",
    "    elif iORj == False and (incORdec == 0) and j != 0 and mazeMap[i][j-1] != 'S' and mazeMap[i][j-1] != '.':\n",
    "        j = j -1\n",
    "        mazeMap[i][j] = '.'\n",
    "        if steps == 1:\n",
    "            mazeMap[i][j] = 'E'\n",
    "    else:\n",
    "        continue\n",
    "    steps = steps - 1\n",
    "\n",
    "ii = 0\n",
    "jj = 0\n",
    "\n",
    "for ii in range(0, randRow):\n",
    "    for jj in range(0, randCol):\n",
    "        iORj = random.choice([True, False])\n",
    "        if mazeMap[ii][jj] != 'S':\n",
    "            if mazeMap[ii][jj] != '.':\n",
    "                if mazeMap[ii][jj] != 'E':\n",
    "                    if iORj:\n",
    "                        mazeMap[ii][jj] = '#'\n",
    "                    else:\n",
    "                        mazeMap[ii][jj] = '.'\n",
    "\n",
    "\n",
    "for ii in range(randRow):\n",
    "    print(mazeMap[ii])\n"
   ]
  }
 ],
 "metadata": {
  "kernelspec": {
   "display_name": "Python 3",
   "language": "python",
   "name": "python3"
  },
  "language_info": {
   "codemirror_mode": {
    "name": "ipython",
    "version": 3
   },
   "file_extension": ".py",
   "mimetype": "text/x-python",
   "name": "python",
   "nbconvert_exporter": "python",
   "pygments_lexer": "ipython3",
   "version": "3.6.7"
  }
 },
 "nbformat": 4,
 "nbformat_minor": 2
}
